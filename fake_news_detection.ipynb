{
 "cells": [
  {
   "cell_type": "code",
   "execution_count": 23,
   "id": "4338026c",
   "metadata": {},
   "outputs": [],
   "source": [
    "import numpy as np\n",
    "import pandas as pd\n",
    "import itertools\n",
    "from sklearn.model_selection import train_test_split\n",
    "from sklearn.feature_extraction.text import TfidfVectorizer\n",
    "from sklearn.linear_model import PassiveAggressiveClassifier"
   ]
  },
  {
   "cell_type": "code",
   "execution_count": 24,
   "id": "ceb92d01",
   "metadata": {},
   "outputs": [],
   "source": [
    "df=pd.read_csv('fake_or_real_news.csv')"
   ]
  },
  {
   "cell_type": "code",
   "execution_count": 25,
   "id": "3f49dce1",
   "metadata": {},
   "outputs": [],
   "source": [
    "# df.shape"
   ]
  },
  {
   "cell_type": "code",
   "execution_count": 26,
   "id": "2b621669",
   "metadata": {},
   "outputs": [],
   "source": [
    "# df.head()"
   ]
  },
  {
   "cell_type": "code",
   "execution_count": 27,
   "id": "079ede7a",
   "metadata": {},
   "outputs": [],
   "source": [
    "labels=df.label\n",
    "# labels.head()"
   ]
  },
  {
   "cell_type": "code",
   "execution_count": 28,
   "id": "4c0e7add",
   "metadata": {},
   "outputs": [],
   "source": [
    "x_train,x_test,y_train,y_test=train_test_split(df['text'], labels, test_size=0.2, random_state=7)"
   ]
  },
  {
   "cell_type": "code",
   "execution_count": 29,
   "id": "ba3f2b26",
   "metadata": {},
   "outputs": [],
   "source": [
    "# x_train.shape"
   ]
  },
  {
   "cell_type": "code",
   "execution_count": 30,
   "id": "46d4b8b1",
   "metadata": {},
   "outputs": [],
   "source": [
    "# x_test.shape"
   ]
  },
  {
   "cell_type": "code",
   "execution_count": 31,
   "id": "7c60c048",
   "metadata": {},
   "outputs": [],
   "source": [
    "tfidf =TfidfVectorizer(stop_words='english', max_df=0.7)"
   ]
  },
  {
   "cell_type": "code",
   "execution_count": 32,
   "id": "6993f4bb",
   "metadata": {},
   "outputs": [],
   "source": [
    "tfidf_train=tfidf.fit_transform(x_train) \n",
    "tfidf_test=tfidf.transform(x_test)"
   ]
  },
  {
   "cell_type": "code",
   "execution_count": 33,
   "id": "3bb5cc01",
   "metadata": {},
   "outputs": [
    {
     "data": {
      "text/plain": [
       "PassiveAggressiveClassifier(max_iter=50)"
      ]
     },
     "execution_count": 33,
     "metadata": {},
     "output_type": "execute_result"
    }
   ],
   "source": [
    "pac=PassiveAggressiveClassifier(max_iter=50)\n",
    "pac.fit(tfidf_train,y_train)"
   ]
  },
  {
   "cell_type": "code",
   "execution_count": 34,
   "id": "697d74e5",
   "metadata": {},
   "outputs": [],
   "source": [
    "y_pred=pac.predict(tfidf_test)"
   ]
  },
  {
   "cell_type": "code",
   "execution_count": 36,
   "id": "975447c5",
   "metadata": {},
   "outputs": [
    {
     "name": "stdout",
     "output_type": "stream",
     "text": [
      "[[591  47]\n",
      " [ 39 590]]\n"
     ]
    }
   ],
   "source": [
    "from sklearn.metrics import confusion_matrix, classification_report\n",
    "import math\n",
    "\n",
    "cm = confusion_matrix(y_test,y_pred)\n",
    "print(cm)"
   ]
  },
  {
   "cell_type": "code",
   "execution_count": 37,
   "id": "cb8624c8",
   "metadata": {},
   "outputs": [
    {
     "name": "stdout",
     "output_type": "stream",
     "text": [
      "Accuracy for test set = 93.21231254932913 (94 percent)\n",
      "Precision for test set = 92.6332288401254 (93 percent)\n",
      "Recall for test set = 93.80952380952381 (94 percent)\n",
      "F1 for test set = 93.21766561514197 (94 percent)\n"
     ]
    },
    {
     "data": {
      "text/plain": [
       "<AxesSubplot:>"
      ]
     },
     "execution_count": 37,
     "metadata": {},
     "output_type": "execute_result"
    },
    {
     "data": {
      "image/png": "[encoded data removed]",
      "text/plain": [
       "<Figure size 432x432 with 2 Axes>"
      ]
     },
     "metadata": {
      "needs_background": "light"
     },
     "output_type": "display_data"
    }
   ],
   "source": [
    "from sklearn.metrics import confusion_matrix\n",
    "import math\n",
    "import seaborn as sns\n",
    "import matplotlib.pyplot as plt\n",
    "\n",
    "TP = cm[0,0]\n",
    "FP = cm[0,1]\n",
    "FN = cm[1,0]\n",
    "TN = cm[1,1]\n",
    "accuracy=((TP+TN)/(TP+TN+FP+FN))*100\n",
    "precision=(TP/(TP+FP))*100\n",
    "recall=(TP/(TP+FN))*100\n",
    "F1=2*(1/((1/precision)+(1/recall)))\n",
    "print('Accuracy for test set =', accuracy , \"(%d percent)\" %math.ceil(accuracy))\n",
    "print('Precision for test set =', precision, \"(%d percent)\" %math.ceil(precision))\n",
    "print('Recall for test set =',recall, \"(%d percent)\" %math.ceil(recall))\n",
    "print('F1 for test set =', F1, \"(%d percent)\" %math.ceil(F1))\n",
    "\n",
    "plt.figure(figsize = (6,6))\n",
    "sns.heatmap(cm, annot=True)"
   ]
  },
  {
   "cell_type": "code",
   "execution_count": null,
   "id": "9ded0ffd",
   "metadata": {},
   "outputs": [],
   "source": []
  }
 ],
 "metadata": {
  "kernelspec": {
   "display_name": "Python 3 (ipykernel)",
   "language": "python",
   "name": "python3"
  },
  "language_info": {
   "codemirror_mode": {
    "name": "ipython",
    "version": 3
   },
   "file_extension": ".py",
   "mimetype": "text/x-python",
   "name": "python",
   "nbconvert_exporter": "python",
   "pygments_lexer": "ipython3",
   "version": "3.9.7"
  }
 },
 "nbformat": 4,
 "nbformat_minor": 5
}
